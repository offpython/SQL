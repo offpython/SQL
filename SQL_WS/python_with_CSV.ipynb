{
 "cells": [
  {
   "cell_type": "markdown",
   "metadata": {},
   "source": [
    "# Python with CSV \n",
    "- csv 에 있는 데이터를 파이썬으로 insert"
   ]
  },
  {
   "cell_type": "markdown",
   "metadata": {},
   "source": [
    "#### police_station.csv 를 Pandas로 읽어오기"
   ]
  },
  {
   "cell_type": "code",
   "execution_count": 1,
   "metadata": {},
   "outputs": [],
   "source": [
    "import pandas as pd"
   ]
  },
  {
   "cell_type": "code",
   "execution_count": 5,
   "metadata": {},
   "outputs": [
    {
     "data": {
      "text/html": [
       "<div>\n",
       "<style scoped>\n",
       "    .dataframe tbody tr th:only-of-type {\n",
       "        vertical-align: middle;\n",
       "    }\n",
       "\n",
       "    .dataframe tbody tr th {\n",
       "        vertical-align: top;\n",
       "    }\n",
       "\n",
       "    .dataframe thead th {\n",
       "        text-align: right;\n",
       "    }\n",
       "</style>\n",
       "<table border=\"1\" class=\"dataframe\">\n",
       "  <thead>\n",
       "    <tr style=\"text-align: right;\">\n",
       "      <th></th>\n",
       "      <th>서울특별시경찰청</th>\n",
       "      <th>서울시 종로구 사직로8길 31</th>\n",
       "    </tr>\n",
       "  </thead>\n",
       "  <tbody>\n",
       "    <tr>\n",
       "      <th>26</th>\n",
       "      <td>서울노원경찰서</td>\n",
       "      <td>서울특별시 노원구 노원로 283</td>\n",
       "    </tr>\n",
       "    <tr>\n",
       "      <th>27</th>\n",
       "      <td>서울방배경찰서</td>\n",
       "      <td>서울특별시 서초구 방배천로 54</td>\n",
       "    </tr>\n",
       "    <tr>\n",
       "      <th>28</th>\n",
       "      <td>서울도봉경찰서</td>\n",
       "      <td>서울특별시 도봉구 노해로 403</td>\n",
       "    </tr>\n",
       "    <tr>\n",
       "      <th>29</th>\n",
       "      <td>서울수서경찰서</td>\n",
       "      <td>서울특별시 강남구 개포로 617</td>\n",
       "    </tr>\n",
       "    <tr>\n",
       "      <th>30</th>\n",
       "      <td>서울은평경찰서</td>\n",
       "      <td>서울특별시 은평구 연서로 365</td>\n",
       "    </tr>\n",
       "  </tbody>\n",
       "</table>\n",
       "</div>"
      ],
      "text/plain": [
       "   서울특별시경찰청   서울시 종로구 사직로8길 31\n",
       "26  서울노원경찰서  서울특별시 노원구 노원로 283\n",
       "27  서울방배경찰서  서울특별시 서초구 방배천로 54\n",
       "28  서울도봉경찰서  서울특별시 도봉구 노해로 403\n",
       "29  서울수서경찰서  서울특별시 강남구 개포로 617\n",
       "30  서울은평경찰서  서울특별시 은평구 연서로 365"
      ]
     },
     "execution_count": 5,
     "metadata": {},
     "output_type": "execute_result"
    }
   ],
   "source": [
    "df = pd.read_csv(\"police_station.csv\")\n",
    "df.tail()"
   ]
  },
  {
   "cell_type": "markdown",
   "metadata": {},
   "source": [
    "#### zerobase 에 연결"
   ]
  },
  {
   "cell_type": "code",
   "execution_count": 8,
   "metadata": {},
   "outputs": [],
   "source": [
    "import mysql.connector\n",
    "\n",
    "conn = mysql.connector.connect(\n",
    "    host = \"database-1.ckw5zu9hecdi.us-east-2.rds.amazonaws.com\",\n",
    "    port = 3306,\n",
    "    user = \"zero\",\n",
    "    password = \"zerobase\",\n",
    "    database = \"zerobase\",\n",
    ")"
   ]
  },
  {
   "cell_type": "markdown",
   "metadata": {},
   "source": [
    "#### cursor 만들기\n",
    "- 읽어올 양이 많은 경우, buffer 설정을 해줍니다."
   ]
  },
  {
   "cell_type": "code",
   "execution_count": 10,
   "metadata": {},
   "outputs": [],
   "source": [
    "cursor = conn.cursor(buffered=True)"
   ]
  },
  {
   "cell_type": "markdown",
   "metadata": {},
   "source": [
    "#### insert 문 만들기"
   ]
  },
  {
   "cell_type": "code",
   "execution_count": 11,
   "metadata": {},
   "outputs": [],
   "source": [
    "sql = \"insert into police_station values(%s, %s)\""
   ]
  },
  {
   "cell_type": "markdown",
   "metadata": {},
   "source": [
    "#### 데이터 입력\n",
    "- commit() 은 database에 적용하기 위한 명령어"
   ]
  },
  {
   "cell_type": "code",
   "execution_count": 14,
   "metadata": {},
   "outputs": [
    {
     "name": "stdout",
     "output_type": "stream",
     "text": [
      "('서울중부경찰서', '서울특별시 중구 수표로 27')\n",
      "('서울종로경찰서', '서울특별시 종로구 율곡로 46')\n",
      "('서울남대문경찰서', '서울특별시 중구 한강대로 410')\n",
      "('서울서대문경찰서', '서울특별시 서대문구 통일로 113')\n",
      "('서울혜화경찰서', '서울특별시 종로구 창경궁로 112-16')\n",
      "('서울용산경찰서', '서울특별시 용산구 원효로89길 24')\n",
      "('서울성북경찰서', '서울특별시 성북구 보문로 170')\n",
      "('서울동대문경찰서', '서울특별시 동대문구 약령시로 21길 29')\n",
      "('서울마포경찰서', '서울특별시 마포구 마포대로 183')\n",
      "('서울영등포경찰서', '서울특별시 영등포구 국회대로 608')\n",
      "('서울성동경찰서', '서울특별시 성동구 왕십리광장로 9')\n",
      "('서울동작경찰서', '서울특별시 동작구 노량진로 148')\n",
      "('서울광진경찰서', '서울특별시 광진구 광나루로 447 광진소방서 임시청사 (능동)')\n",
      "('서울서부경찰서', '서울특별시 은평구 은평로9길 15')\n",
      "('서울강북경찰서', '서울특별시 강북구 오패산로 406')\n",
      "('서울금천경찰서', '서울특별시 관악구 남부순환로 1435')\n",
      "('서울중랑경찰서', '서울특별시 중랑구 중랑역로 137')\n",
      "('서울강남경찰서', '서울특별시 강남구 테헤란로 114길 11')\n",
      "('서울관악경찰서', '서울특별시 관악구 관악로5길 33')\n",
      "('서울강서경찰서', '서울특별시 양천구 화곡로 73')\n",
      "('서울강동경찰서', '서울특별시 강동구 성내로 33')\n",
      "('서울종암경찰서', '서울특별시 성북구 종암로 135')\n",
      "('서울구로경찰서', '서울특별시 구로구 가마산로 235')\n",
      "('서울서초경찰서', '서울특별시 서초구 반포대로 179')\n",
      "('서울양천경찰서', '서울특별시 양천구 목동동로 99')\n",
      "('서울송파경찰서', '서울특별시 송파구 중대로 221')\n",
      "('서울노원경찰서', '서울특별시 노원구 노원로 283')\n",
      "('서울방배경찰서', '서울특별시 서초구 방배천로 54')\n",
      "('서울도봉경찰서', '서울특별시 도봉구 노해로 403')\n",
      "('서울수서경찰서', '서울특별시 강남구 개포로 617')\n",
      "('서울은평경찰서', '서울특별시 은평구 연서로 365')\n"
     ]
    }
   ],
   "source": [
    "for i, row in df.iterrows():\n",
    "    cursor.execute(sql, tuple(row))\n",
    "    print(tuple(row))\n",
    "    conn.commit()"
   ]
  },
  {
   "cell_type": "markdown",
   "metadata": {},
   "source": [
    "#### 결과 확인"
   ]
  },
  {
   "cell_type": "code",
   "execution_count": 18,
   "metadata": {},
   "outputs": [
    {
     "data": {
      "text/plain": [
       "[('서울중부경찰서', '서울특별시 중구 수표로 27'),\n",
       " ('서울종로경찰서', '서울특별시 종로구 율곡로 46'),\n",
       " ('서울남대문경찰서', '서울특별시 중구 한강대로 410'),\n",
       " ('서울서대문경찰서', '서울특별시 서대문구 통일로 113'),\n",
       " ('서울혜화경찰서', '서울특별시 종로구 창경궁로 112-16'),\n",
       " ('서울용산경찰서', '서울특별시 용산구 원효로89길 24'),\n",
       " ('서울성북경찰서', '서울특별시 성북구 보문로 170'),\n",
       " ('서울동대문경찰서', '서울특별시 동대문구 약령시로 21길 29'),\n",
       " ('서울마포경찰서', '서울특별시 마포구 마포대로 183'),\n",
       " ('서울영등포경찰서', '서울특별시 영등포구 국회대로 608'),\n",
       " ('서울성동경찰서', '서울특별시 성동구 왕십리광장로 9'),\n",
       " ('서울동작경찰서', '서울특별시 동작구 노량진로 148'),\n",
       " ('서울광진경찰서', '서울특별시 광진구 광나루로 447 광진소방서 임시청사 (능동)'),\n",
       " ('서울서부경찰서', '서울특별시 은평구 은평로9길 15'),\n",
       " ('서울강북경찰서', '서울특별시 강북구 오패산로 406'),\n",
       " ('서울금천경찰서', '서울특별시 관악구 남부순환로 1435'),\n",
       " ('서울중랑경찰서', '서울특별시 중랑구 중랑역로 137'),\n",
       " ('서울강남경찰서', '서울특별시 강남구 테헤란로 114길 11'),\n",
       " ('서울관악경찰서', '서울특별시 관악구 관악로5길 33'),\n",
       " ('서울강서경찰서', '서울특별시 양천구 화곡로 73'),\n",
       " ('서울강동경찰서', '서울특별시 강동구 성내로 33'),\n",
       " ('서울종암경찰서', '서울특별시 성북구 종암로 135'),\n",
       " ('서울구로경찰서', '서울특별시 구로구 가마산로 235'),\n",
       " ('서울서초경찰서', '서울특별시 서초구 반포대로 179'),\n",
       " ('서울양천경찰서', '서울특별시 양천구 목동동로 99'),\n",
       " ('서울송파경찰서', '서울특별시 송파구 중대로 221'),\n",
       " ('서울노원경찰서', '서울특별시 노원구 노원로 283'),\n",
       " ('서울방배경찰서', '서울특별시 서초구 방배천로 54'),\n",
       " ('서울도봉경찰서', '서울특별시 도봉구 노해로 403'),\n",
       " ('서울수서경찰서', '서울특별시 강남구 개포로 617'),\n",
       " ('서울은평경찰서', '서울특별시 은평구 연서로 365')]"
      ]
     },
     "execution_count": 18,
     "metadata": {},
     "output_type": "execute_result"
    }
   ],
   "source": [
    "cursor.execute(\"select * from police_station\")\n",
    "\n",
    "result = cursor.fetchall()\n",
    "result"
   ]
  },
  {
   "cell_type": "code",
   "execution_count": 19,
   "metadata": {},
   "outputs": [
    {
     "name": "stdout",
     "output_type": "stream",
     "text": [
      "('서울중부경찰서', '서울특별시 중구 수표로 27')\n",
      "('서울종로경찰서', '서울특별시 종로구 율곡로 46')\n",
      "('서울남대문경찰서', '서울특별시 중구 한강대로 410')\n",
      "('서울서대문경찰서', '서울특별시 서대문구 통일로 113')\n",
      "('서울혜화경찰서', '서울특별시 종로구 창경궁로 112-16')\n",
      "('서울용산경찰서', '서울특별시 용산구 원효로89길 24')\n",
      "('서울성북경찰서', '서울특별시 성북구 보문로 170')\n",
      "('서울동대문경찰서', '서울특별시 동대문구 약령시로 21길 29')\n",
      "('서울마포경찰서', '서울특별시 마포구 마포대로 183')\n",
      "('서울영등포경찰서', '서울특별시 영등포구 국회대로 608')\n",
      "('서울성동경찰서', '서울특별시 성동구 왕십리광장로 9')\n",
      "('서울동작경찰서', '서울특별시 동작구 노량진로 148')\n",
      "('서울광진경찰서', '서울특별시 광진구 광나루로 447 광진소방서 임시청사 (능동)')\n",
      "('서울서부경찰서', '서울특별시 은평구 은평로9길 15')\n",
      "('서울강북경찰서', '서울특별시 강북구 오패산로 406')\n",
      "('서울금천경찰서', '서울특별시 관악구 남부순환로 1435')\n",
      "('서울중랑경찰서', '서울특별시 중랑구 중랑역로 137')\n",
      "('서울강남경찰서', '서울특별시 강남구 테헤란로 114길 11')\n",
      "('서울관악경찰서', '서울특별시 관악구 관악로5길 33')\n",
      "('서울강서경찰서', '서울특별시 양천구 화곡로 73')\n",
      "('서울강동경찰서', '서울특별시 강동구 성내로 33')\n",
      "('서울종암경찰서', '서울특별시 성북구 종암로 135')\n",
      "('서울구로경찰서', '서울특별시 구로구 가마산로 235')\n",
      "('서울서초경찰서', '서울특별시 서초구 반포대로 179')\n",
      "('서울양천경찰서', '서울특별시 양천구 목동동로 99')\n",
      "('서울송파경찰서', '서울특별시 송파구 중대로 221')\n",
      "('서울노원경찰서', '서울특별시 노원구 노원로 283')\n",
      "('서울방배경찰서', '서울특별시 서초구 방배천로 54')\n",
      "('서울도봉경찰서', '서울특별시 도봉구 노해로 403')\n",
      "('서울수서경찰서', '서울특별시 강남구 개포로 617')\n",
      "('서울은평경찰서', '서울특별시 은평구 연서로 365')\n"
     ]
    }
   ],
   "source": [
    "for row in result:\n",
    "    print(row)"
   ]
  },
  {
   "cell_type": "markdown",
   "metadata": {},
   "source": [
    "#### 검색 결과를 pandas로 읽기"
   ]
  },
  {
   "cell_type": "code",
   "execution_count": 21,
   "metadata": {},
   "outputs": [
    {
     "data": {
      "text/plain": [
       "<bound method NDFrame.tail of            0                                   1\n",
       "0    서울중부경찰서                     서울특별시 중구 수표로 27\n",
       "1    서울종로경찰서                    서울특별시 종로구 율곡로 46\n",
       "2   서울남대문경찰서                   서울특별시 중구 한강대로 410\n",
       "3   서울서대문경찰서                  서울특별시 서대문구 통일로 113\n",
       "4    서울혜화경찰서               서울특별시 종로구 창경궁로 112-16\n",
       "5    서울용산경찰서                 서울특별시 용산구 원효로89길 24\n",
       "6    서울성북경찰서                   서울특별시 성북구 보문로 170\n",
       "7   서울동대문경찰서              서울특별시 동대문구 약령시로 21길 29\n",
       "8    서울마포경찰서                  서울특별시 마포구 마포대로 183\n",
       "9   서울영등포경찰서                 서울특별시 영등포구 국회대로 608\n",
       "10   서울성동경찰서                  서울특별시 성동구 왕십리광장로 9\n",
       "11   서울동작경찰서                  서울특별시 동작구 노량진로 148\n",
       "12   서울광진경찰서  서울특별시 광진구 광나루로 447 광진소방서 임시청사 (능동)\n",
       "13   서울서부경찰서                  서울특별시 은평구 은평로9길 15\n",
       "14   서울강북경찰서                  서울특별시 강북구 오패산로 406\n",
       "15   서울금천경찰서                서울특별시 관악구 남부순환로 1435\n",
       "16   서울중랑경찰서                  서울특별시 중랑구 중랑역로 137\n",
       "17   서울강남경찰서              서울특별시 강남구 테헤란로 114길 11\n",
       "18   서울관악경찰서                  서울특별시 관악구 관악로5길 33\n",
       "19   서울강서경찰서                    서울특별시 양천구 화곡로 73\n",
       "20   서울강동경찰서                    서울특별시 강동구 성내로 33\n",
       "21   서울종암경찰서                   서울특별시 성북구 종암로 135\n",
       "22   서울구로경찰서                  서울특별시 구로구 가마산로 235\n",
       "23   서울서초경찰서                  서울특별시 서초구 반포대로 179\n",
       "24   서울양천경찰서                   서울특별시 양천구 목동동로 99\n",
       "25   서울송파경찰서                   서울특별시 송파구 중대로 221\n",
       "26   서울노원경찰서                   서울특별시 노원구 노원로 283\n",
       "27   서울방배경찰서                   서울특별시 서초구 방배천로 54\n",
       "28   서울도봉경찰서                   서울특별시 도봉구 노해로 403\n",
       "29   서울수서경찰서                   서울특별시 강남구 개포로 617\n",
       "30   서울은평경찰서                   서울특별시 은평구 연서로 365>"
      ]
     },
     "execution_count": 21,
     "metadata": {},
     "output_type": "execute_result"
    }
   ],
   "source": [
    "df = pd.DataFrame(result)\n",
    "df.tail"
   ]
  },
  {
   "cell_type": "code",
   "execution_count": null,
   "metadata": {},
   "outputs": [],
   "source": []
  },
  {
   "cell_type": "code",
   "execution_count": null,
   "metadata": {},
   "outputs": [],
   "source": []
  },
  {
   "cell_type": "code",
   "execution_count": null,
   "metadata": {},
   "outputs": [],
   "source": []
  },
  {
   "cell_type": "code",
   "execution_count": null,
   "metadata": {},
   "outputs": [],
   "source": []
  },
  {
   "cell_type": "code",
   "execution_count": null,
   "metadata": {},
   "outputs": [],
   "source": []
  },
  {
   "cell_type": "code",
   "execution_count": null,
   "metadata": {},
   "outputs": [],
   "source": []
  },
  {
   "cell_type": "code",
   "execution_count": null,
   "metadata": {},
   "outputs": [],
   "source": []
  },
  {
   "cell_type": "code",
   "execution_count": null,
   "metadata": {},
   "outputs": [],
   "source": []
  },
  {
   "cell_type": "code",
   "execution_count": null,
   "metadata": {},
   "outputs": [],
   "source": []
  },
  {
   "cell_type": "code",
   "execution_count": null,
   "metadata": {},
   "outputs": [],
   "source": []
  },
  {
   "cell_type": "code",
   "execution_count": null,
   "metadata": {},
   "outputs": [],
   "source": []
  },
  {
   "cell_type": "code",
   "execution_count": null,
   "metadata": {},
   "outputs": [],
   "source": []
  },
  {
   "cell_type": "code",
   "execution_count": null,
   "metadata": {},
   "outputs": [],
   "source": []
  },
  {
   "cell_type": "code",
   "execution_count": null,
   "metadata": {},
   "outputs": [],
   "source": []
  },
  {
   "cell_type": "code",
   "execution_count": null,
   "metadata": {},
   "outputs": [],
   "source": []
  },
  {
   "cell_type": "code",
   "execution_count": null,
   "metadata": {},
   "outputs": [],
   "source": []
  },
  {
   "cell_type": "code",
   "execution_count": null,
   "metadata": {},
   "outputs": [],
   "source": []
  },
  {
   "cell_type": "code",
   "execution_count": null,
   "metadata": {},
   "outputs": [],
   "source": []
  },
  {
   "cell_type": "code",
   "execution_count": null,
   "metadata": {},
   "outputs": [],
   "source": []
  },
  {
   "cell_type": "code",
   "execution_count": null,
   "metadata": {},
   "outputs": [],
   "source": []
  },
  {
   "cell_type": "code",
   "execution_count": null,
   "metadata": {},
   "outputs": [],
   "source": []
  },
  {
   "cell_type": "code",
   "execution_count": null,
   "metadata": {},
   "outputs": [],
   "source": []
  },
  {
   "cell_type": "code",
   "execution_count": null,
   "metadata": {},
   "outputs": [],
   "source": []
  },
  {
   "cell_type": "code",
   "execution_count": null,
   "metadata": {},
   "outputs": [],
   "source": []
  }
 ],
 "metadata": {
  "kernelspec": {
   "display_name": "ds_study",
   "language": "python",
   "name": "python3"
  },
  "language_info": {
   "codemirror_mode": {
    "name": "ipython",
    "version": 3
   },
   "file_extension": ".py",
   "mimetype": "text/x-python",
   "name": "python",
   "nbconvert_exporter": "python",
   "pygments_lexer": "ipython3",
   "version": "3.11.2"
  },
  "orig_nbformat": 4
 },
 "nbformat": 4,
 "nbformat_minor": 2
}
