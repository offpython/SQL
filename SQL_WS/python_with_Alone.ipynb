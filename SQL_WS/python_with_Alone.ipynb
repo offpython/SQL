{
 "cells": [
  {
   "cell_type": "markdown",
   "metadata": {},
   "source": [
    "# python with MySQL"
   ]
  },
  {
   "cell_type": "markdown",
   "metadata": {},
   "source": [
    "# 혼자서 연습"
   ]
  },
  {
   "cell_type": "markdown",
   "metadata": {},
   "source": [
    "# 1. MySQL Database(zerobase)에 접속"
   ]
  },
  {
   "cell_type": "code",
   "execution_count": 3,
   "metadata": {},
   "outputs": [],
   "source": [
    "import mysql.connector"
   ]
  },
  {
   "cell_type": "code",
   "execution_count": 5,
   "metadata": {},
   "outputs": [],
   "source": [
    "conn = mysql.connector.connect(\n",
    "    host = \"database-1.ckw5zu9hecdi.us-east-2.rds.amazonaws.com\",\n",
    "    port = 3306,\n",
    "    user = \"zero\",\n",
    "    password = \"zerobase\",\n",
    "    database = \"zerobase\"\n",
    ")"
   ]
  },
  {
   "cell_type": "markdown",
   "metadata": {},
   "source": [
    "# 2. CCTV 테이블 생성"
   ]
  },
  {
   "cell_type": "code",
   "execution_count": 6,
   "metadata": {},
   "outputs": [],
   "source": [
    "import pandas as pd"
   ]
  },
  {
   "cell_type": "code",
   "execution_count": 11,
   "metadata": {},
   "outputs": [
    {
     "data": {
      "text/html": [
       "<div>\n",
       "<style scoped>\n",
       "    .dataframe tbody tr th:only-of-type {\n",
       "        vertical-align: middle;\n",
       "    }\n",
       "\n",
       "    .dataframe tbody tr th {\n",
       "        vertical-align: top;\n",
       "    }\n",
       "\n",
       "    .dataframe thead th {\n",
       "        text-align: right;\n",
       "    }\n",
       "</style>\n",
       "<table border=\"1\" class=\"dataframe\">\n",
       "  <thead>\n",
       "    <tr style=\"text-align: right;\">\n",
       "      <th></th>\n",
       "      <th>기관명</th>\n",
       "      <th>소계</th>\n",
       "      <th>2013년도 이전</th>\n",
       "      <th>2014년</th>\n",
       "      <th>2015년</th>\n",
       "      <th>2016년</th>\n",
       "    </tr>\n",
       "  </thead>\n",
       "  <tbody>\n",
       "    <tr>\n",
       "      <th>20</th>\n",
       "      <td>용산구</td>\n",
       "      <td>2096</td>\n",
       "      <td>1368</td>\n",
       "      <td>218</td>\n",
       "      <td>112</td>\n",
       "      <td>398</td>\n",
       "    </tr>\n",
       "    <tr>\n",
       "      <th>21</th>\n",
       "      <td>은평구</td>\n",
       "      <td>2108</td>\n",
       "      <td>1138</td>\n",
       "      <td>224</td>\n",
       "      <td>278</td>\n",
       "      <td>468</td>\n",
       "    </tr>\n",
       "    <tr>\n",
       "      <th>22</th>\n",
       "      <td>종로구</td>\n",
       "      <td>1619</td>\n",
       "      <td>464</td>\n",
       "      <td>314</td>\n",
       "      <td>211</td>\n",
       "      <td>630</td>\n",
       "    </tr>\n",
       "    <tr>\n",
       "      <th>23</th>\n",
       "      <td>중구</td>\n",
       "      <td>1023</td>\n",
       "      <td>413</td>\n",
       "      <td>190</td>\n",
       "      <td>72</td>\n",
       "      <td>348</td>\n",
       "    </tr>\n",
       "    <tr>\n",
       "      <th>24</th>\n",
       "      <td>중랑구</td>\n",
       "      <td>916</td>\n",
       "      <td>509</td>\n",
       "      <td>121</td>\n",
       "      <td>177</td>\n",
       "      <td>109</td>\n",
       "    </tr>\n",
       "  </tbody>\n",
       "</table>\n",
       "</div>"
      ],
      "text/plain": [
       "    기관명    소계  2013년도 이전  2014년  2015년  2016년\n",
       "20  용산구  2096       1368    218    112    398\n",
       "21  은평구  2108       1138    224    278    468\n",
       "22  종로구  1619        464    314    211    630\n",
       "23   중구  1023        413    190     72    348\n",
       "24  중랑구   916        509    121    177    109"
      ]
     },
     "execution_count": 11,
     "metadata": {},
     "output_type": "execute_result"
    }
   ],
   "source": [
    "df = pd.read_csv(\"Seoul_CCTV.csv\")\n",
    "df.tail()"
   ]
  },
  {
   "cell_type": "code",
   "execution_count": 13,
   "metadata": {},
   "outputs": [],
   "source": [
    "sql = \"create table cctv (기관명 varchar(8), 소계 int, 2013년도이전 int, 2014년 int, 2015년 int, 2016년 int)\"\n",
    "cursor = conn.cursor(buffered=True)\n",
    "cursor.execute(sql)"
   ]
  },
  {
   "cell_type": "markdown",
   "metadata": {},
   "source": [
    "# 3. 데이터를 cctv 테이블에 insert 하기"
   ]
  },
  {
   "cell_type": "code",
   "execution_count": 14,
   "metadata": {},
   "outputs": [
    {
     "name": "stdout",
     "output_type": "stream",
     "text": [
      "('강남구', 3238, 1292, 430, 584, 932)\n",
      "('강동구', 1010, 379, 99, 155, 377)\n",
      "('강북구', 831, 369, 120, 138, 204)\n",
      "('강서구', 911, 388, 258, 184, 81)\n",
      "('관악구', 2109, 846, 260, 390, 613)\n",
      "('광진구', 878, 573, 78, 53, 174)\n",
      "('구로구', 1884, 1142, 173, 246, 323)\n",
      "('금천구', 1348, 674, 51, 269, 354)\n",
      "('노원구', 1566, 542, 57, 451, 516)\n",
      "('도봉구', 825, 238, 159, 42, 386)\n",
      "('동대문구', 1870, 1070, 23, 198, 579)\n",
      "('동작구', 1302, 544, 341, 103, 314)\n",
      "('마포구', 980, 314, 118, 169, 379)\n",
      "('서대문구', 1254, 844, 50, 68, 292)\n",
      "('서초구', 2297, 1406, 157, 336, 398)\n",
      "('성동구', 1327, 730, 91, 241, 265)\n",
      "('성북구', 1651, 1009, 78, 360, 204)\n",
      "('송파구', 1081, 529, 21, 68, 463)\n",
      "('양천구', 2482, 1843, 142, 30, 467)\n",
      "('영등포구', 1277, 495, 214, 195, 373)\n",
      "('용산구', 2096, 1368, 218, 112, 398)\n",
      "('은평구', 2108, 1138, 224, 278, 468)\n",
      "('종로구', 1619, 464, 314, 211, 630)\n",
      "('중구', 1023, 413, 190, 72, 348)\n",
      "('중랑구', 916, 509, 121, 177, 109)\n"
     ]
    }
   ],
   "source": [
    "sql = \"insert into cctv values(%s, %s, %s, %s, %s, %s)\"\n",
    "cursor = conn.cursor(buffered=True)\n",
    "\n",
    "for i, row in df.iterrows():\n",
    "    cursor.execute(sql, tuple(row))\n",
    "    print(tuple(row))\n",
    "    conn.commit()"
   ]
  },
  {
   "cell_type": "markdown",
   "metadata": {},
   "source": [
    "# 5. cctv 테이블 조회하여 확인"
   ]
  },
  {
   "cell_type": "code",
   "execution_count": 15,
   "metadata": {},
   "outputs": [
    {
     "name": "stdout",
     "output_type": "stream",
     "text": [
      "('강남구', 3238, 1292, 430, 584, 932)\n",
      "('강동구', 1010, 379, 99, 155, 377)\n",
      "('강북구', 831, 369, 120, 138, 204)\n",
      "('강서구', 911, 388, 258, 184, 81)\n",
      "('관악구', 2109, 846, 260, 390, 613)\n",
      "('광진구', 878, 573, 78, 53, 174)\n",
      "('구로구', 1884, 1142, 173, 246, 323)\n",
      "('금천구', 1348, 674, 51, 269, 354)\n",
      "('노원구', 1566, 542, 57, 451, 516)\n",
      "('도봉구', 825, 238, 159, 42, 386)\n",
      "('동대문구', 1870, 1070, 23, 198, 579)\n",
      "('동작구', 1302, 544, 341, 103, 314)\n",
      "('마포구', 980, 314, 118, 169, 379)\n",
      "('서대문구', 1254, 844, 50, 68, 292)\n",
      "('서초구', 2297, 1406, 157, 336, 398)\n",
      "('성동구', 1327, 730, 91, 241, 265)\n",
      "('성북구', 1651, 1009, 78, 360, 204)\n",
      "('송파구', 1081, 529, 21, 68, 463)\n",
      "('양천구', 2482, 1843, 142, 30, 467)\n",
      "('영등포구', 1277, 495, 214, 195, 373)\n",
      "('용산구', 2096, 1368, 218, 112, 398)\n",
      "('은평구', 2108, 1138, 224, 278, 468)\n",
      "('종로구', 1619, 464, 314, 211, 630)\n",
      "('중구', 1023, 413, 190, 72, 348)\n",
      "('중랑구', 916, 509, 121, 177, 109)\n"
     ]
    }
   ],
   "source": [
    "cursor.execute(\"select * from cctv\")\n",
    "\n",
    "result = cursor.fetchall()\n",
    "for row in result:\n",
    "    print(row)"
   ]
  },
  {
   "cell_type": "markdown",
   "metadata": {},
   "source": [
    "# 6. 조회한 데이터를 pandas로 변환해서 출력"
   ]
  },
  {
   "cell_type": "code",
   "execution_count": 17,
   "metadata": {},
   "outputs": [
    {
     "data": {
      "text/html": [
       "<div>\n",
       "<style scoped>\n",
       "    .dataframe tbody tr th:only-of-type {\n",
       "        vertical-align: middle;\n",
       "    }\n",
       "\n",
       "    .dataframe tbody tr th {\n",
       "        vertical-align: top;\n",
       "    }\n",
       "\n",
       "    .dataframe thead th {\n",
       "        text-align: right;\n",
       "    }\n",
       "</style>\n",
       "<table border=\"1\" class=\"dataframe\">\n",
       "  <thead>\n",
       "    <tr style=\"text-align: right;\">\n",
       "      <th></th>\n",
       "      <th>0</th>\n",
       "      <th>1</th>\n",
       "      <th>2</th>\n",
       "      <th>3</th>\n",
       "      <th>4</th>\n",
       "      <th>5</th>\n",
       "    </tr>\n",
       "  </thead>\n",
       "  <tbody>\n",
       "    <tr>\n",
       "      <th>20</th>\n",
       "      <td>용산구</td>\n",
       "      <td>2096</td>\n",
       "      <td>1368</td>\n",
       "      <td>218</td>\n",
       "      <td>112</td>\n",
       "      <td>398</td>\n",
       "    </tr>\n",
       "    <tr>\n",
       "      <th>21</th>\n",
       "      <td>은평구</td>\n",
       "      <td>2108</td>\n",
       "      <td>1138</td>\n",
       "      <td>224</td>\n",
       "      <td>278</td>\n",
       "      <td>468</td>\n",
       "    </tr>\n",
       "    <tr>\n",
       "      <th>22</th>\n",
       "      <td>종로구</td>\n",
       "      <td>1619</td>\n",
       "      <td>464</td>\n",
       "      <td>314</td>\n",
       "      <td>211</td>\n",
       "      <td>630</td>\n",
       "    </tr>\n",
       "    <tr>\n",
       "      <th>23</th>\n",
       "      <td>중구</td>\n",
       "      <td>1023</td>\n",
       "      <td>413</td>\n",
       "      <td>190</td>\n",
       "      <td>72</td>\n",
       "      <td>348</td>\n",
       "    </tr>\n",
       "    <tr>\n",
       "      <th>24</th>\n",
       "      <td>중랑구</td>\n",
       "      <td>916</td>\n",
       "      <td>509</td>\n",
       "      <td>121</td>\n",
       "      <td>177</td>\n",
       "      <td>109</td>\n",
       "    </tr>\n",
       "  </tbody>\n",
       "</table>\n",
       "</div>"
      ],
      "text/plain": [
       "      0     1     2    3    4    5\n",
       "20  용산구  2096  1368  218  112  398\n",
       "21  은평구  2108  1138  224  278  468\n",
       "22  종로구  1619   464  314  211  630\n",
       "23   중구  1023   413  190   72  348\n",
       "24  중랑구   916   509  121  177  109"
      ]
     },
     "execution_count": 17,
     "metadata": {},
     "output_type": "execute_result"
    }
   ],
   "source": [
    "df = pd.DataFrame(result)\n",
    "df.tail()"
   ]
  }
 ],
 "metadata": {
  "kernelspec": {
   "display_name": "ds_study",
   "language": "python",
   "name": "python3"
  },
  "language_info": {
   "codemirror_mode": {
    "name": "ipython",
    "version": 3
   },
   "file_extension": ".py",
   "mimetype": "text/x-python",
   "name": "python",
   "nbconvert_exporter": "python",
   "pygments_lexer": "ipython3",
   "version": "3.11.2"
  },
  "orig_nbformat": 4
 },
 "nbformat": 4,
 "nbformat_minor": 2
}
